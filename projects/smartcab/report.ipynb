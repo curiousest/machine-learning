{
 "cells": [
  {
   "cell_type": "markdown",
   "metadata": {},
   "source": [
    "# SmartCab Report\n",
    "\n",
    "## Question 1\n",
    "> Observe what you see with the agent's behavior as it takes random actions. Does the smartcab eventually make it to the destination? Are there any other interesting observations to note?\n",
    "\n",
    "I haven't seen the smartcab meet the destination taking random actions before the time limit expiring.\n",
    "\n",
    "The smartcab seems to spent about half its time stopped at intersections rather than moving.\n",
    "\n",
    "Probability of moving:\n",
    "Red light -> None, Forward (2/5)\n",
    "Green light -> None (1/5)\n",
    "3/10 possibilities at a random light will keep the car stopped. That's definitely smaller than what I observe. There must be something about the orientation of the lights that means the probability of hitting a red light vs. green light is not equal (when you see a red, you see it for many turns, while you pass through a green quickly). That means the algorithm will maybe make right-turns at red lights to get out of them.\n",
    "\n",
    "## Question 2\n",
    "\n",
    "\n"
   ]
  },
  {
   "cell_type": "code",
   "execution_count": null,
   "metadata": {},
   "outputs": [],
   "source": [
    ""
   ]
  }
 ],
 "metadata": {
  "kernelspec": {
   "display_name": "Python 2",
   "language": "python",
   "name": "python2"
  },
  "language_info": {
   "codemirror_mode": {
    "name": "ipython",
    "version": 2.0
   },
   "file_extension": ".py",
   "mimetype": "text/x-python",
   "name": "python",
   "nbconvert_exporter": "python",
   "pygments_lexer": "ipython2",
   "version": "2.7.12"
  }
 },
 "nbformat": 4,
 "nbformat_minor": 0
}